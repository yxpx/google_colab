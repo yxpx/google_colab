{
  "nbformat": 4,
  "nbformat_minor": 0,
  "metadata": {
    "colab": {
      "provenance": [],
      "authorship_tag": "ABX9TyNazexPjqQuZLLH15NixXUm",
      "include_colab_link": true
    },
    "kernelspec": {
      "name": "python3",
      "display_name": "Python 3"
    },
    "language_info": {
      "name": "python"
    }
  },
  "cells": [
    {
      "cell_type": "markdown",
      "metadata": {
        "id": "view-in-github",
        "colab_type": "text"
      },
      "source": [
        "<a href=\"https://colab.research.google.com/github/yxpx/google_colab/blob/main/pypal_insights_.ipynb\" target=\"_parent\"><img src=\"https://colab.research.google.com/assets/colab-badge.svg\" alt=\"Open In Colab\"/></a>"
      ]
    },
    {
      "cell_type": "code",
      "source": [
        "import pandas as pd\n",
        "\n",
        "file_name = '/content/sample_data/pypal_data.xlsx'\n",
        "try:\n",
        "    if file_name.endswith('.csv'):\n",
        "        df = pd.read_csv(file_name)\n",
        "    else:\n",
        "        df = pd.read_excel(file_name)\n",
        "\n",
        "    print(f\"Successfully loaded '{file_name}'.\")\n",
        "    print(\"Here are the first 5 rows of your data:\")\n",
        "    print(df.head())\n",
        "\n",
        "except FileNotFoundError:\n",
        "    print(f\"--- ERROR ---\")\n",
        "    print(f\"File not found: '{file_name}'.\")\n",
        "\n",
        "except Exception as e:\n",
        "    print(f\"An error occurred: {e}\")"
      ],
      "metadata": {
        "colab": {
          "base_uri": "https://localhost:8080/"
        },
        "id": "ycHfAW-H7C1T",
        "outputId": "f613d4bd-a8bb-4951-8f77-a425e579b341"
      },
      "execution_count": 12,
      "outputs": [
        {
          "output_type": "stream",
          "name": "stdout",
          "text": [
            "Successfully loaded '/content/sample_data/pypal_data.xlsx'.\n",
            "Here are the first 5 rows of your data:\n",
            "   concept_number  question_number  \\\n",
            "0               5                6   \n",
            "1               1                1   \n",
            "2               1                1   \n",
            "3               1                1   \n",
            "4               1                2   \n",
            "\n",
            "                                            question  \\\n",
            "0  Given a dictionary containing the student name...   \n",
            "1  Given an integer, return True if it is even, e...   \n",
            "2  Given an integer, return True if it is even, e...   \n",
            "3  Given an integer, return True if it is even, e...   \n",
            "4         Given two integers, return the larger one.   \n",
            "\n",
            "                                                code  \\\n",
            "0  def main(dict1):_x000D_\\n\\tlist1={}_x000D_\\n\\t...   \n",
            "1  def main():_x000D_\\n\\tif a%2 == 0:_x000D_\\n\\t\\...   \n",
            "2                   def main():_x000D_\\n\\treturn a%2   \n",
            "3                   def main():_x000D_\\n\\treturn a%2   \n",
            "4           def main():_x000D_\\n\\ta-1_x000D_\\n\\tpass   \n",
            "\n",
            "                                       exec_feedback  \\\n",
            "0  {'test_case': {'B1': [90, 95, 100], 'B2': [80,...   \n",
            "1                               7 test cases failed.   \n",
            "2                               7 test cases failed.   \n",
            "3                               7 test cases failed.   \n",
            "4                               6 test cases failed.   \n",
            "\n",
            "                                      ai_explanation           anon_id  \n",
            "0  To solve the problem of calculating average ma...  d87a0e0f704d66e0  \n",
            "1  To solve the problem, the function should take...  f26e98aabb823576  \n",
            "2  Let's start by checking if the function meets ...  f26e98aabb823576  \n",
            "3  It looks like you're on the right track with u...  f26e98aabb823576  \n",
            "4  To solve the problem, you need to compare two ...  f26e98aabb823576  \n"
          ]
        }
      ]
    },
    {
      "cell_type": "code",
      "source": [
        "import pandas as pd\n",
        "import numpy as np\n",
        "\n",
        "if 'df' in locals():\n",
        "    feedback_str = df['exec_feedback'].astype(str)\n",
        "    df['status'] = np.where(\n",
        "        feedback_str.str.contains('error', case=False, na=False),\n",
        "        'Error',\n",
        "        'Fail'\n",
        "    )\n",
        "\n",
        "    print(\"Here is the breakdown of all problems:\")\n",
        "    print(df['status'].value_counts())\n",
        "    print(\"\\n\")\n",
        "\n",
        "else:\n",
        "    print(\"--- ERROR --- 'df' is not loaded\")"
      ],
      "metadata": {
        "colab": {
          "base_uri": "https://localhost:8080/"
        },
        "id": "L1hebdQr_RfW",
        "outputId": "a6274182-42e2-4eed-eb92-49d0ff3a05ca"
      },
      "execution_count": 24,
      "outputs": [
        {
          "output_type": "stream",
          "name": "stdout",
          "text": [
            "Here is the breakdown of all problems:\n",
            "status\n",
            "Fail     9141\n",
            "Error    5267\n",
            "Name: count, dtype: int64\n",
            "\n",
            "\n"
          ]
        }
      ]
    },
    {
      "cell_type": "code",
      "source": [
        "if 'df' in locals():\n",
        "    # This regex pattern looks for words that end in 'Error' or 'error'\n",
        "    regex_pattern = r'([\\w\\s]+[Ee]rror)'\n",
        "\n",
        "    # Use .str.extract to pull out the first match from 'exec_feedback'\n",
        "    extracted_errors = df['exec_feedback'].astype(str).str.extract(regex_pattern, expand=False)\n",
        "\n",
        "    # Create the new 'error_type' column ONLY if the status is 'Error'\n",
        "    df['error_type'] = np.where(\n",
        "        df['status'] == 'Error',\n",
        "        extracted_errors,  # Put the extracted error text\n",
        "        np.nan             # Otherwise, leave it blank\n",
        "    )\n",
        "\n",
        "    print(\"Most common errors are:\")\n",
        "    print(df['error_type'].value_counts(dropna=True).head(10))\n",
        "else:\n",
        "    print(\"--- ERROR --- 'df' is not loaded.\")"
      ],
      "metadata": {
        "colab": {
          "base_uri": "https://localhost:8080/"
        },
        "id": "dfr1x_OwF1FE",
        "outputId": "7a561d0d-d21a-43a7-efaa-d1db27b36bb6"
      },
      "execution_count": 25,
      "outputs": [
        {
          "output_type": "stream",
          "name": "stdout",
          "text": [
            "Most common errors are:\n",
            "error_type\n",
            "TypeError            2544\n",
            "NameError            1247\n",
            "ZeroDivisionError     607\n",
            "UnboundLocalError     390\n",
            "AttributeError        210\n",
            "EOFError               88\n",
            "IndexError             81\n",
            "ValueError             70\n",
            "KeyError               16\n",
            "RecursionError          5\n",
            "Name: count, dtype: int64\n"
          ]
        }
      ]
    },
    {
      "cell_type": "code",
      "source": [
        "import pandas as pd\n",
        "\n",
        "if 'df' in locals() and 'status' in df.columns:\n",
        "    # Create the unique ID\n",
        "    # We convert the numbers to strings so we can join them with a dash\n",
        "    df['unique_question_id'] = 'C' + df['concept_number'].astype(str) + \\\n",
        "                               '-Q' + df['question_number'].astype(str)\n",
        "\n",
        "    # Count 'Error' and 'Fail' for each unique question\n",
        "    question_summary = df.groupby('unique_question_id')['status'].value_counts()\n",
        "\n",
        "    # .unstack(fill_value=0) moves 'Error' and 'Fail' into their own columns\n",
        "    question_summary_table = question_summary.unstack(fill_value=0)\n",
        "\n",
        "    # Add a 'Total' column and sort by it\n",
        "    question_summary_table['Total_Problems'] = question_summary_table.sum(axis=1)\n",
        "    question_summary_table = question_summary_table.sort_values(by='Total_Problems', ascending=False)\n",
        "\n",
        "    print(\"\\n--- Summary of Problems by Question ---\")\n",
        "    print(question_summary_table.head(15))\n",
        "\n",
        "else:\n",
        "    print(\"--- ERROR --- 'df' or 'status' column not found.\")"
      ],
      "metadata": {
        "colab": {
          "base_uri": "https://localhost:8080/"
        },
        "id": "p4BiY2NZIGfn",
        "outputId": "33d424e6-8493-486c-b9ab-c12f79162ce5"
      },
      "execution_count": 30,
      "outputs": [
        {
          "output_type": "stream",
          "name": "stdout",
          "text": [
            "\n",
            "--- Summary of Problems by Question ---\n",
            "status              Error  Fail  Total_Problems\n",
            "unique_question_id                             \n",
            "C1-Q8                 622   923            1545\n",
            "C1-Q7                 247   972            1219\n",
            "C4-Q9                  51   659             710\n",
            "C1-Q1                 558   106             664\n",
            "C3-Q7                 141   523             664\n",
            "C6-Q5                 126   361             487\n",
            "C2-Q1                 185   250             435\n",
            "C2-Q2                  88   344             432\n",
            "C3-Q3                 148   279             427\n",
            "C6-Q7                  94   317             411\n",
            "C1-Q4                  42   366             408\n",
            "C4-Q8                  48   283             331\n",
            "C1-Q9                 262    66             328\n",
            "C1-Q10                 39   286             325\n",
            "C4-Q2                  38   250             288\n"
          ]
        }
      ]
    },
    {
      "cell_type": "code",
      "source": [
        "if 'df' in locals() and all(col in df.columns for col in ['status', 'unique_question_id', 'error_type']):\n",
        "\n",
        "    total_problems = len(df)\n",
        "    status_counts = df['status'].value_counts()\n",
        "    error_count = status_counts.get('Error', 0)\n",
        "    fail_count = status_counts.get('Fail', 0)\n",
        "\n",
        "    error_percentage = (error_count / total_problems) * 100\n",
        "    fail_percentage = (fail_count / total_problems) * 100\n",
        "\n",
        "    error_type_counts = df['error_type'].value_counts(dropna=True)\n",
        "    top_3_errors = error_type_counts.head(3)\n",
        "    top_3_errors_percentage = (top_3_errors.sum() / error_count) * 100\n",
        "\n",
        "    question_counts = df['unique_question_id'].value_counts()\n",
        "    top_6_questions = question_counts.head(6)\n",
        "    top_6_questions_percentage = (top_6_questions.sum() / total_problems) * 100\n",
        "\n",
        "    print(\"\\n===================\")\n",
        "    print(\"      Summary\")\n",
        "    print(\"===================\")\n",
        "\n",
        "    print(f\"\\nAnalyzed a total of {total_problems} problem logs.\")\n",
        "    print(f\"\\n1. Breakdown of Problem Types:\")\n",
        "    print(f\"   - Code-Crashing Errors: {error_count} cases ({error_percentage:.1f}%)\")\n",
        "    print(f\"   - Logical Fails:        {fail_count} cases ({fail_percentage:.1f}%)\")\n",
        "\n",
        "    print(\"\\n2.Top Code-Crashing Errors\")\n",
        "    print(\"   ----------------------------------------\")\n",
        "    print(\"   The following three error types are the most frequent:\")\n",
        "    for error_name, count in top_3_errors.items():\n",
        "        print(f\"   - {error_name}: {count} occurrences\")\n",
        "    print(f\"\\n   These three errors account for {top_3_errors_percentage:.1f}% of all code-crashing issues.\")\n",
        "\n",
        "    print(\"\\n3. Key Insight: Top Problematic Questions\")\n",
        "    print(\"   -----------------------------------------\")\n",
        "    print(\"   The following six questions generate the most problems:\")\n",
        "    for q_name, count in top_6_questions.items():\n",
        "        print(f\"   - Question {q_name}: {count} problems\")\n",
        "    print(f\"\\n   These six questions account for {top_6_questions_percentage:.1f}% of all logged problems.\")\n",
        ""
      ],
      "metadata": {
        "colab": {
          "base_uri": "https://localhost:8080/"
        },
        "id": "cTqssOgHL-Cs",
        "outputId": "f4c73927-bfe7-4a44-fcc0-ee3b80f9efe2"
      },
      "execution_count": 45,
      "outputs": [
        {
          "output_type": "stream",
          "name": "stdout",
          "text": [
            "\n",
            "===================\n",
            "      Summary\n",
            "===================\n",
            "\n",
            "Analyzed a total of 14408 problem logs.\n",
            "\n",
            "1. Breakdown of Problem Types:\n",
            "   - Code-Crashing Errors: 5267 cases (36.6%)\n",
            "   - Logical Fails:        9141 cases (63.4%)\n",
            "\n",
            "2.Top Code-Crashing Errors\n",
            "   ----------------------------------------\n",
            "   The following three error types are the most frequent:\n",
            "   -  TypeError: 2544 occurrences\n",
            "   -  NameError: 1247 occurrences\n",
            "   -  ZeroDivisionError: 607 occurrences\n",
            "\n",
            "   These three errors account for 83.5% of all code-crashing issues.\n",
            "\n",
            "3. Key Insight: Top Problematic Questions\n",
            "   -----------------------------------------\n",
            "   The following six questions generate the most problems:\n",
            "   - Question C1-Q8: 1545 problems\n",
            "   - Question C1-Q7: 1219 problems\n",
            "   - Question C4-Q9: 710 problems\n",
            "   - Question C1-Q1: 664 problems\n",
            "   - Question C3-Q7: 664 problems\n",
            "   - Question C6-Q5: 487 problems\n",
            "\n",
            "   These six questions account for 36.7% of all logged problems.\n"
          ]
        }
      ]
    }
  ]
}